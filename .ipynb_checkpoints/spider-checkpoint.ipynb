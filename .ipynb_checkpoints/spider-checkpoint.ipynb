{
 "cells": [
  {
   "cell_type": "code",
   "execution_count": 30,
   "metadata": {},
   "outputs": [],
   "source": [
    "from selenium import webdriver\n",
    "import time\n",
    "from bs4 import BeautifulSoup\n",
    "import math\n",
    "import requests\n",
    "import pandas as pd"
   ]
  },
  {
   "cell_type": "markdown",
   "metadata": {},
   "source": [
    "### Method 1: Use the root url like \"https://www.mycareersfuture.sg\" to set the query value to get the results"
   ]
  },
  {
   "cell_type": "code",
   "execution_count": 27,
   "metadata": {},
   "outputs": [],
   "source": [
    "# need to download the driver support in selenium, refer to below 2 helpers.\n",
    "# https://selenium-python.readthedocs.io/installation.html#drivers\n",
    "# https://sites.google.com/a/chromium.org/chromedriver/downloads\n",
    "\n",
    "google_chrome_driver_path = '/Users/alexjzy/Desktop/Py-Projects/text_mining/chromedriver'\n",
    "root_url = 'https://www.mycareersfuture.sg'\n",
    "\n",
    "driver=webdriver.Chrome(google_chrome_driver_path)\n",
    "driver.get(root_url)\n",
    "# to wait the page finish loading.\n",
    "time.sleep(2) \n",
    "# find and type in the search bar with \"machine learning\"\n",
    "driver.find_element_by_name('search-text').send_keys('machine learning') \n",
    "time.sleep(1) \n",
    "# find and click the search button\n",
    "driver.find_element_by_id('search-button').click()\n",
    "time.sleep(1) \n",
    "# now, get the html of all the search result\n",
    "html = driver.page_source"
   ]
  },
  {
   "cell_type": "markdown",
   "metadata": {},
   "source": [
    "### Method 2: Can just joint the content you wanna query fill in the url:\n",
    "see the url like https://www.mycareersfuture.sg/search?search=machine%20learning&sortBy=new_posting_date&page=0\n",
    "- set the *search=* equals to your wanted content such as 'machine%20learning', \"%20\" means the 'space' which is the URL encoding rule, refer to https://zh.wikipedia.org/wiki/%E7%99%BE%E5%88%86%E5%8F%B7%E7%BC%96%E7%A0%81 \n",
    "- set the *page=* equals to the web pages you wanna jump to. attention the **no result**."
   ]
  },
  {
   "cell_type": "code",
   "execution_count": 2,
   "metadata": {},
   "outputs": [],
   "source": [
    "basic_url = 'https://www.mycareersfuture.sg/search?search=machine%20learning&sortBy=new_posting_date&page={}'\n",
    "urls = []\n",
    "# construct 20 pages\n",
    "for page in range(0, 20):\n",
    "    query_url = basic_url.format(page)\n",
    "    urls.append(query_url)\n",
    "# driver.get(urls[0])\n",
    "# html = driver.page_source\n"
   ]
  },
  {
   "cell_type": "markdown",
   "metadata": {},
   "source": [
    "### Start to extract the contents"
   ]
  },
  {
   "cell_type": "code",
   "execution_count": 9,
   "metadata": {},
   "outputs": [],
   "source": [
    "def fetch_data(url, head, payload):\n",
    "    response = requests.get(url, headers=head, params=payload)\n",
    "    if response.status_code == 200:\n",
    "        return response.json()\n",
    "    else:\n",
    "        return {'info': 'error', 'error_code': response.status_code}"
   ]
  },
  {
   "cell_type": "code",
   "execution_count": 19,
   "metadata": {},
   "outputs": [],
   "source": [
    "google_chrome_driver_path = '/Users/alexjzy/Desktop/Py-Projects/text_mining/chromedriver'\n",
    "driver=webdriver.Chrome(google_chrome_driver_path)\n",
    "query_url = 'https://api.mycareersfuture.sg/jobs?search=machine%20learning&sortBy=new_posting_date'\n",
    "response = fetch_data(query_url, {}, {})\n",
    "result_num = math.ceil(response['count']/20)"
   ]
  },
  {
   "cell_type": "code",
   "execution_count": 11,
   "metadata": {},
   "outputs": [
    {
     "name": "stdout",
     "output_type": "stream",
     "text": [
      "11\n",
      "urls shape:  11\n"
     ]
    }
   ],
   "source": [
    "basic_url = 'https://www.mycareersfuture.sg/search?search=machine%20learning&sortBy=new_posting_date&page={}'\n",
    "urls = []\n",
    "# construct 20 pages\n",
    "for page in range(0, result_num ):\n",
    "    query_url = basic_url.format(page)\n",
    "    urls.append(query_url)\n",
    "print(result_num)\n",
    "print(\"urls shape: \", len(urls))"
   ]
  },
  {
   "cell_type": "code",
   "execution_count": 43,
   "metadata": {},
   "outputs": [],
   "source": [
    "query_url = 'https://api.mycareersfuture.sg/jobs?search=machine%20learning&sortBy=new_posting_date'\n",
    "response = fetch_data(query_url, {}, {})\n",
    "result_num = math.ceil(response['count']/20)"
   ]
  },
  {
   "cell_type": "code",
   "execution_count": 44,
   "metadata": {
    "scrolled": false
   },
   "outputs": [
    {
     "data": {
      "text/plain": [
       "['https://www.mycareersfuture.sg/search?search=machine%20learning&sortBy=new_posting_date&page=0',\n",
       " 'https://www.mycareersfuture.sg/search?search=machine%20learning&sortBy=new_posting_date&page=1',\n",
       " 'https://www.mycareersfuture.sg/search?search=machine%20learning&sortBy=new_posting_date&page=2',\n",
       " 'https://www.mycareersfuture.sg/search?search=machine%20learning&sortBy=new_posting_date&page=3',\n",
       " 'https://www.mycareersfuture.sg/search?search=machine%20learning&sortBy=new_posting_date&page=4',\n",
       " 'https://www.mycareersfuture.sg/search?search=machine%20learning&sortBy=new_posting_date&page=5',\n",
       " 'https://www.mycareersfuture.sg/search?search=machine%20learning&sortBy=new_posting_date&page=6',\n",
       " 'https://www.mycareersfuture.sg/search?search=machine%20learning&sortBy=new_posting_date&page=7',\n",
       " 'https://www.mycareersfuture.sg/search?search=machine%20learning&sortBy=new_posting_date&page=8',\n",
       " 'https://www.mycareersfuture.sg/search?search=machine%20learning&sortBy=new_posting_date&page=9',\n",
       " 'https://www.mycareersfuture.sg/search?search=machine%20learning&sortBy=new_posting_date&page=10']"
      ]
     },
     "execution_count": 44,
     "metadata": {},
     "output_type": "execute_result"
    }
   ],
   "source": [
    "urls"
   ]
  },
  {
   "cell_type": "code",
   "execution_count": 45,
   "metadata": {},
   "outputs": [],
   "source": [
    "def get_job_description(uuid):\n",
    "    api_basic = 'https://api.mycareersfuture.sg/job/{}'\n",
    "    api_jd_url = api_basic.format(uuid)\n",
    "    json = fetch_data(api_jd_url, {}, {})\n",
    "    jd = BeautifulSoup(json['job_description']).get_text(strip=True)\n",
    "    jr = BeautifulSoup(json['other_requirements']).get_text(strip=True)\n",
    "    jsk = [item['skill'] for item in json['skills']]\n",
    "    sal_max = json['min_monthly_salary']\n",
    "    sal_min = json['max_monthly_salary']\n",
    "    return jd, jr, jsk, sal_max, sal_min\n",
    "    "
   ]
  },
  {
   "cell_type": "code",
   "execution_count": 46,
   "metadata": {},
   "outputs": [],
   "source": [
    "def get_detail(card):\n",
    "    company = card.find(\"p\", {\"name\": \"company\"}).get_text()\n",
    "    job_title = card.find(\"h1\", {\"name\": \"job_title\"}).get_text()\n",
    "    \n",
    "    # extract the data\n",
    "    location = card.find_all(\"p\", {\"name\": \"location\"})[0].get_text() if len(card.find_all(\"p\", {\"name\": \"location\"})) > 0 else None\n",
    "    employment_type = card.find_all(\"p\", {\"name\": \"employment_type\"})[0].get_text() if len(card.find_all(\"p\", {\"name\": \"employment_type\"})) > 0 else None\n",
    "    seniority = card.find_all(\"p\", {\"name\": \"seniority\"})[0].get_text() if len(card.find_all(\"p\", {\"name\": \"seniority\"})) > 0 else None\n",
    "    category = card.find_all(\"p\", {\"name\": \"category\"})[0].get_text() if len(card.find_all(\"p\", {\"name\": \"category\"})) > 0 else None\n",
    "    \n",
    "    # get the job detail and collect the jd and requirements which are the raw text\n",
    "    job_uuid = card.find(\"a\", href=True)['href'].split('-')[-1]\n",
    "    job_description, job_requirement, job_skills, salary_max, salary_min = get_job_description(job_uuid)\n",
    "    return {\n",
    "        \"company\": company,\n",
    "        \"job_title\": job_title,\n",
    "        \"location\": location,\n",
    "        \"employment_type\": employment_type,\n",
    "        \"seniority\": seniority,\n",
    "        \"category\": category,\n",
    "        \"job_description\": job_description,\n",
    "        \"job_requirement\": job_requirement,\n",
    "        \"job_skills\": job_skills,\n",
    "        \"job_uuid\": job_uuid,\n",
    "        \"salary_min\": salary_min,\n",
    "        \"salary_max\": salary_max\n",
    "    }"
   ]
  },
  {
   "cell_type": "code",
   "execution_count": 47,
   "metadata": {
    "scrolled": true
   },
   "outputs": [],
   "source": [
    "def get_card_info(page_url, res):\n",
    "    driver.get(page_url)\n",
    "    time.sleep(2)\n",
    "    html = driver.page_source\n",
    "    soup = BeautifulSoup(html)\n",
    "    card_jobs = soup.find(\"div\", {\"class\": \"card-list\"})\n",
    "    cards = card_jobs.find_all(\"div\", {\"class\": \"card relative\"})\n",
    "    for card in cards:\n",
    "        res.append(get_detail(card))"
   ]
  },
  {
   "cell_type": "code",
   "execution_count": 48,
   "metadata": {
    "scrolled": true
   },
   "outputs": [],
   "source": [
    "result = []\n",
    "for url in urls:\n",
    "    get_card_info(url, result)\n"
   ]
  },
  {
   "cell_type": "code",
   "execution_count": 49,
   "metadata": {},
   "outputs": [],
   "source": [
    "career_res = pd.DataFrame.from_dict(result)\n",
    "career_res['job_skills'] = career_res.job_skills.apply(lambda x: ', '.join(x))"
   ]
  },
  {
   "cell_type": "code",
   "execution_count": 70,
   "metadata": {},
   "outputs": [],
   "source": [
    "test = career_res[\"job_description\"][0]"
   ]
  },
  {
   "cell_type": "code",
   "execution_count": 71,
   "metadata": {},
   "outputs": [
    {
     "data": {
      "text/plain": [
       "'Join Fraud Investigation & Dispute Services (FIDS) within Assurance and you will help clients work through complex issues of fraud, regulatory compliance and business disputes. You will be part of a multidisciplinary, culturally aligned team that works with clients and their legal advisors.The opportunityYou will experience ongoing professional development through diverse experiences, world-class learning and individually tailored coaching. That’s how we develop outstanding leaders who team to deliver on our promises to all of our stakeholders, and in so doing, play a critical role in building a better working world for our people, for our clients and for our communities. Sound interesting? Well this is just the beginning. Because whenever you join, however long you stay, the exceptional EY experience lasts a lifetime.Skills and attributes for successWork on client engagement teams in carrying out both reactive and proactive forensic analysis of large amounts of structured and unstructured data involving a wide range of database management software, statistical and predictive machine learning software, and link analysis and data visualization software.Involve in project activities including data collection and load, data quality assessment, data cleansing and enhancing, complex data transformation, relationship profiling, sampling and extrapolation, segmentation, statistical modelling, segmentation, structured data mining, text mining and analytical matching.Work in our specialist forensic technology data analytics lab and on site to help clients leverage knowledge from their data for measurement of fraud risks and losses, prevention, continuous monitoring, detection and investigation of occupational fraud, waste and abuse, financial crime and other form non-compliant activities.Work with clients, fraud examiners, internal and external auditors, lawyers and regulatory authorities in sometimes sensitive and adversarial situations.Help to prepare sections of expert reports, including review, analysis and verification of evidence data and identifying key issues.Be willing to learn, and with time develop and improve leading edge methodologies applied to forensic data analytics engagement that are both reactive and proactive.'"
      ]
     },
     "execution_count": 71,
     "metadata": {},
     "output_type": "execute_result"
    }
   ],
   "source": [
    "soup_test = BeautifulSoup(test)\n",
    "soup_test.get_text(strip=True)"
   ]
  },
  {
   "cell_type": "code",
   "execution_count": null,
   "metadata": {},
   "outputs": [],
   "source": []
  }
 ],
 "metadata": {
  "kernelspec": {
   "display_name": "Python 3",
   "language": "python",
   "name": "python3"
  },
  "language_info": {
   "codemirror_mode": {
    "name": "ipython",
    "version": 3
   },
   "file_extension": ".py",
   "mimetype": "text/x-python",
   "name": "python",
   "nbconvert_exporter": "python",
   "pygments_lexer": "ipython3",
   "version": "3.6.5"
  }
 },
 "nbformat": 4,
 "nbformat_minor": 2
}
